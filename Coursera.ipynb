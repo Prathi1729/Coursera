{
 "cells": [
  {
   "cell_type": "markdown",
   "id": "05420e1c",
   "metadata": {},
   "source": [
    "# Data Science Notebook"
   ]
  },
  {
   "cell_type": "markdown",
   "id": "e29b15b1",
   "metadata": {},
   "source": [
    "# Introduction"
   ]
  },
  {
   "cell_type": "markdown",
   "id": "da97426c",
   "metadata": {},
   "source": [
    "Welcome to my Data Science Notebook! In this notebook, we will explore various languages, libraries, and tools used in data science."
   ]
  },
  {
   "cell_type": "markdown",
   "id": "bd24f464",
   "metadata": {},
   "source": [
    "# Data Science Languages"
   ]
  },
  {
   "cell_type": "markdown",
   "id": "e0fa162e",
   "metadata": {},
   "source": [
    "Python\n",
    "R\n",
    "SQL\n",
    "MATLAB\n",
    "Julia\n"
   ]
  },
  {
   "cell_type": "markdown",
   "id": "686d9f53",
   "metadata": {},
   "source": [
    "# Data Science Libraries"
   ]
  },
  {
   "cell_type": "markdown",
   "id": "cdb088b3",
   "metadata": {},
   "source": [
    "NumPy\n",
    "Pandas\n",
    "Matplotlib\n",
    "Seaborn\n",
    "Scikit-learn"
   ]
  },
  {
   "cell_type": "markdown",
   "id": "0e585f7f",
   "metadata": {},
   "source": [
    "# Data Science Tools Table"
   ]
  },
  {
   "cell_type": "markdown",
   "id": "a0be2327",
   "metadata": {},
   "source": [
    "Jupyter -\tInteractive notebook for data science\n",
    "Tableau -\tData visualization and business intelligence software\n",
    "Power BI -\tBusiness analytics service by Microsoft\n",
    "TensorFlow -\tOpen-source machine learning framework\n",
    "Apache Spark -\tUnified analytics engine for large-scale data processing"
   ]
  },
  {
   "cell_type": "markdown",
   "id": "6e5875c8",
   "metadata": {},
   "source": [
    "# Arithmetic Expressions"
   ]
  },
  {
   "cell_type": "markdown",
   "id": "b3617152",
   "metadata": {},
   "source": [
    "Arithmetic expressions involve mathematical operations such as addition, subtraction, multiplication, and division."
   ]
  },
  {
   "cell_type": "markdown",
   "id": "4b86d95a",
   "metadata": {},
   "source": [
    "# Multiplication and Addition"
   ]
  },
  {
   "cell_type": "code",
   "execution_count": 2,
   "id": "3279adac",
   "metadata": {},
   "outputs": [
    {
     "name": "stdout",
     "output_type": "stream",
     "text": [
      "50 15\n"
     ]
    }
   ],
   "source": [
    "a = 10\n",
    "b = 5\n",
    "c = a * b\n",
    "d = a + b\n",
    "print(c, d)"
   ]
  },
  {
   "cell_type": "markdown",
   "id": "a196f833",
   "metadata": {},
   "source": [
    "# Convert Minutes to Hours"
   ]
  },
  {
   "cell_type": "code",
   "execution_count": 3,
   "id": "ac2b27c3",
   "metadata": {},
   "outputs": [
    {
     "name": "stdout",
     "output_type": "stream",
     "text": [
      "2.5\n"
     ]
    }
   ],
   "source": [
    "minutes = 150\n",
    "hours = minutes / 60\n",
    "print(hours)"
   ]
  },
  {
   "cell_type": "markdown",
   "id": "4981024d",
   "metadata": {},
   "source": [
    "# Objectives"
   ]
  },
  {
   "cell_type": "markdown",
   "id": "df0154fe",
   "metadata": {},
   "source": [
    "The objectives of this notebook are:\n",
    "\n",
    "Explore various data science languages, libraries, and tools.\n",
    "Learn about arithmetic expressions and operators.\n",
    "Implement basic calculations in Python."
   ]
  },
  {
   "cell_type": "markdown",
   "id": "f7c42a07",
   "metadata": {},
   "source": [
    "# Author"
   ]
  },
  {
   "cell_type": "markdown",
   "id": "ad1d561b",
   "metadata": {},
   "source": [
    "This notebook was created by Prathiban V."
   ]
  },
  {
   "cell_type": "markdown",
   "id": "0dba0bef",
   "metadata": {},
   "source": [
    "# GitHub Share"
   ]
  },
  {
   "cell_type": "markdown",
   "id": "423dd79d",
   "metadata": {},
   "source": [
    "https://github.com/Prathi1729/Coursera"
   ]
  },
  {
   "cell_type": "code",
   "execution_count": null,
   "id": "25ccf921",
   "metadata": {},
   "outputs": [],
   "source": []
  }
 ],
 "metadata": {
  "kernelspec": {
   "display_name": "Python 3 (ipykernel)",
   "language": "python",
   "name": "python3"
  },
  "language_info": {
   "codemirror_mode": {
    "name": "ipython",
    "version": 3
   },
   "file_extension": ".py",
   "mimetype": "text/x-python",
   "name": "python",
   "nbconvert_exporter": "python",
   "pygments_lexer": "ipython3",
   "version": "3.9.13"
  }
 },
 "nbformat": 4,
 "nbformat_minor": 5
}
