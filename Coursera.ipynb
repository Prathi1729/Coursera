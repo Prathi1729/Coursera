{
 "cells": [
  {
   "cell_type": "markdown",
   "id": "91b4ca6e",
   "metadata": {},
   "source": [
    "# Data Science Notebook"
   ]
  },
  {
   "cell_type": "markdown",
   "id": "e21c52e2",
   "metadata": {},
   "source": [
    "Introduction Welcome to my Data Science Notebook! In this notebook, we will explore various languages, libraries, and tools used in data science."
   ]
  },
  {
   "cell_type": "markdown",
   "id": "ec6f3d95",
   "metadata": {},
   "source": [
    "Data Science Languages"
   ]
  },
  {
   "cell_type": "markdown",
   "id": "a2cf9da1",
   "metadata": {},
   "source": [
    "Python\n",
    "\n",
    "R\n",
    "\n",
    "SQL\n",
    "\n",
    "Scala\n",
    "\n",
    "Java\n",
    "\n",
    "C++\n",
    "\n",
    "Julia\n",
    "\n",
    "JavaScript\n",
    "\n",
    "PHP\n",
    "\n",
    "Go\n",
    "\n",
    "Ruby\n",
    "\n",
    "Visual Basic"
   ]
  },
  {
   "cell_type": "markdown",
   "id": "6ca3e0f4",
   "metadata": {},
   "source": [
    "# Data Science Libraries"
   ]
  },
  {
   "cell_type": "markdown",
   "id": "43586840",
   "metadata": {},
   "source": [
    "Pandas\n",
    "\n",
    "Numpy\n",
    "\n",
    "Matplotlib\n",
    "\n",
    "Seaborn\n",
    "\n",
    "Scikit-learn\n",
    "\n",
    "Keras\n",
    "\n",
    "TensorFlow\n",
    "\n",
    "PyTorch\n",
    "\n",
    "Apache Spark\n",
    "\n",
    "Vegas\n",
    "\n",
    "Big DL\n",
    "\n",
    "Ggplot2"
   ]
  },
  {
   "cell_type": "markdown",
   "id": "1371538f",
   "metadata": {},
   "source": [
    "# Data Science Tools Table"
   ]
  },
  {
   "cell_type": "markdown",
   "id": "d7d5becc",
   "metadata": {},
   "source": [
    "Tool\tDescription\n",
    "\n",
    "NumPy\tLibrary for numerical computing in Python\n",
    "\n",
    "Pandas\tLibrary for data manipulation and analysis in Python\n",
    "\n",
    "Matplotlib\tLibrary for creating static, animated, and interactive visualizations in Python\n",
    "\n",
    "Seaborn\tLibrary for creating statistical graphics in Python\n",
    "\n",
    "Scikit-learn\tMachine learning library for Python\n",
    "\n",
    "TensorFlow\tOpen-source machine learning framework developed by Google\n",
    "\n",
    "PyTorch\tOpen-source machine learning framework developed by Facebook\n",
    "\n",
    "Keras\tHigh-level neural networks API written in Python and capable of running on top of TensorFlow, CNTK, or Theano\n",
    "\n",
    "NLTK\tNatural Language Toolkit library for Python\n",
    "\n",
    "SpaCy\tOpen-source software library for advanced Natural Language Processing (NLP) in Python"
   ]
  },
  {
   "cell_type": "markdown",
   "id": "cfe16090",
   "metadata": {},
   "source": [
    "# Arithmetic Expressions"
   ]
  },
  {
   "cell_type": "markdown",
   "id": "d0db703b",
   "metadata": {},
   "source": [
    "### Below are a few examples,efevaluating arithmetic expressions in Python\n",
    "### Arithmetic expressions involve mathematical operations such as addition, subtraction, multiplication, and division."
   ]
  },
  {
   "cell_type": "code",
   "execution_count": 5,
   "id": "f6225ba5",
   "metadata": {},
   "outputs": [
    {
     "data": {
      "text/plain": [
       "17"
      ]
     },
     "execution_count": 5,
     "metadata": {},
     "output_type": "execute_result"
    }
   ],
   "source": [
    "# Multiplication and Addition\n",
    "10*1+7"
   ]
  },
  {
   "cell_type": "markdown",
   "id": "5c6f75a1",
   "metadata": {},
   "source": [
    "# Convert Minutes to Hours"
   ]
  },
  {
   "cell_type": "code",
   "execution_count": 7,
   "id": "24a47cee",
   "metadata": {},
   "outputs": [
    {
     "name": "stdout",
     "output_type": "stream",
     "text": [
      "3.3333333333333335\n"
     ]
    }
   ],
   "source": [
    "# hours to minutes\n",
    "minutes = 200\n",
    "hours = minutes / 60\n",
    "print(hours)"
   ]
  },
  {
   "cell_type": "markdown",
   "id": "8c8b4bbe",
   "metadata": {},
   "source": [
    "# Objectives"
   ]
  },
  {
   "cell_type": "markdown",
   "id": "23a63120",
   "metadata": {},
   "source": [
    "The objectives of this notebook are:\n",
    "Objectives:\n",
    "\n",
    "- Add comments to code\n",
    "- Create markdown \n",
    "- Add ordered and unordered lists to markdown cells\n",
    "- Format content markdown cells with heading styles\n",
    "- Explore various data science languages, libraries, and tools.\n",
    "- Learn about arithmetic expressions and operators.\n",
    "- Implement basic calculations in Python."
   ]
  },
  {
   "cell_type": "markdown",
   "id": "02cb10e9",
   "metadata": {},
   "source": [
    "# Author"
   ]
  },
  {
   "cell_type": "markdown",
   "id": "281e6086",
   "metadata": {},
   "source": [
    "This notebook was created by Prathiban V."
   ]
  },
  {
   "cell_type": "markdown",
   "id": "3aef0225",
   "metadata": {},
   "source": [
    "# GitHub Share"
   ]
  },
  {
   "cell_type": "markdown",
   "id": "bd699607",
   "metadata": {},
   "source": [
    "https://github.com/Prathi1729/Coursera"
   ]
  },
  {
   "cell_type": "code",
   "execution_count": null,
   "id": "f0a5e066",
   "metadata": {},
   "outputs": [],
   "source": []
  }
 ],
 "metadata": {
  "kernelspec": {
   "display_name": "Python 3 (ipykernel)",
   "language": "python",
   "name": "python3"
  },
  "language_info": {
   "codemirror_mode": {
    "name": "ipython",
    "version": 3
   },
   "file_extension": ".py",
   "mimetype": "text/x-python",
   "name": "python",
   "nbconvert_exporter": "python",
   "pygments_lexer": "ipython3",
   "version": "3.9.13"
  }
 },
 "nbformat": 4,
 "nbformat_minor": 5
}
