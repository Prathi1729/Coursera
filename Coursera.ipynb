{
 "cells": [
  {
   "cell_type": "markdown",
   "id": "494e5383",
   "metadata": {},
   "source": [
    "# Data Science Notebook"
   ]
  },
  {
   "cell_type": "markdown",
   "id": "1d6f06d8",
   "metadata": {},
   "source": [
    "# Introduction"
   ]
  },
  {
   "cell_type": "markdown",
   "id": "0bc601d7",
   "metadata": {},
   "source": [
    "Welcome to my Data Science Notebook! In this notebook, we will explore various languages, libraries, and tools used in data science."
   ]
  },
  {
   "cell_type": "markdown",
   "id": "c19fd1d5",
   "metadata": {},
   "source": [
    "# Data Science Languages"
   ]
  },
  {
   "cell_type": "markdown",
   "id": "a071f871",
   "metadata": {},
   "source": [
    "Python\n",
    "R\n",
    "SQL\n",
    "MATLAB\n",
    "Julia\n"
   ]
  },
  {
   "cell_type": "markdown",
   "id": "b4399078",
   "metadata": {},
   "source": [
    "# Data Science Libraries"
   ]
  },
  {
   "cell_type": "markdown",
   "id": "1c013ec1",
   "metadata": {},
   "source": [
    "NumPy\n",
    "Pandas\n",
    "Matplotlib\n",
    "Seaborn\n",
    "Scikit-learn"
   ]
  },
  {
   "cell_type": "markdown",
   "id": "1ab0f225",
   "metadata": {},
   "source": [
    "# Data Science Tools Table"
   ]
  },
  {
   "cell_type": "markdown",
   "id": "a9c6196a",
   "metadata": {},
   "source": [
    "Jupyter -\tInteractive notebook for data science\n",
    "Tableau -\tData visualization and business intelligence software\n",
    "Power BI -\tBusiness analytics service by Microsoft\n",
    "TensorFlow -\tOpen-source machine learning framework\n",
    "Apache Spark -\tUnified analytics engine for large-scale data processing"
   ]
  },
  {
   "cell_type": "markdown",
   "id": "321de104",
   "metadata": {},
   "source": [
    "# Arithmetic Expressions"
   ]
  },
  {
   "cell_type": "markdown",
   "id": "1b2cf074",
   "metadata": {},
   "source": [
    "Arithmetic expressions involve mathematical operations such as addition, subtraction, multiplication, and division."
   ]
  },
  {
   "cell_type": "markdown",
   "id": "6ebb0db0",
   "metadata": {},
   "source": [
    "# Multiplication and Addition"
   ]
  },
  {
   "cell_type": "code",
   "execution_count": 2,
   "id": "8cb30928",
   "metadata": {},
   "outputs": [
    {
     "name": "stdout",
     "output_type": "stream",
     "text": [
      "50 15\n"
     ]
    }
   ],
   "source": [
    "a = 10\n",
    "b = 5\n",
    "c = a * b\n",
    "d = a + b\n",
    "print(c, d)"
   ]
  },
  {
   "cell_type": "markdown",
   "id": "951b913f",
   "metadata": {},
   "source": [
    "# Convert Minutes to Hours"
   ]
  },
  {
   "cell_type": "code",
   "execution_count": 3,
   "id": "04336cf3",
   "metadata": {},
   "outputs": [
    {
     "name": "stdout",
     "output_type": "stream",
     "text": [
      "2.5\n"
     ]
    }
   ],
   "source": [
    "minutes = 150\n",
    "hours = minutes / 60\n",
    "print(hours)"
   ]
  },
  {
   "cell_type": "markdown",
   "id": "ffbe5cc8",
   "metadata": {},
   "source": [
    "# Objectives"
   ]
  },
  {
   "cell_type": "markdown",
   "id": "4a054801",
   "metadata": {},
   "source": [
    "The objectives of this notebook are:\n",
    "\n",
    "Explore various data science languages, libraries, and tools.\n",
    "Learn about arithmetic expressions and operators.\n",
    "Implement basic calculations in Python."
   ]
  },
  {
   "cell_type": "markdown",
   "id": "43568a7a",
   "metadata": {},
   "source": [
    "# Author"
   ]
  },
  {
   "cell_type": "markdown",
   "id": "f9f38e5e",
   "metadata": {},
   "source": [
    "This notebook was created by Prathiban V."
   ]
  },
  {
   "cell_type": "markdown",
   "id": "c118dcf5",
   "metadata": {},
   "source": [
    "# GitHub Share"
   ]
  },
  {
   "cell_type": "code",
   "execution_count": null,
   "id": "75ade9e0",
   "metadata": {},
   "outputs": [],
   "source": []
  }
 ],
 "metadata": {
  "kernelspec": {
   "display_name": "Python 3 (ipykernel)",
   "language": "python",
   "name": "python3"
  },
  "language_info": {
   "codemirror_mode": {
    "name": "ipython",
    "version": 3
   },
   "file_extension": ".py",
   "mimetype": "text/x-python",
   "name": "python",
   "nbconvert_exporter": "python",
   "pygments_lexer": "ipython3",
   "version": "3.9.13"
  }
 },
 "nbformat": 4,
 "nbformat_minor": 5
}
